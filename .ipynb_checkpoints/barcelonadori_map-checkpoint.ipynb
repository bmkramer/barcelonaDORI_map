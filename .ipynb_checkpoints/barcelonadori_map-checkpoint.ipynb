{
 "cells": [
  {
   "cell_type": "markdown",
   "id": "f93f128d-0372-49bf-94f6-cf10e41972be",
   "metadata": {},
   "source": [
    "# Map of Barcelona signatories "
   ]
  },
  {
   "cell_type": "code",
   "execution_count": null,
   "id": "e408beb4-6806-4867-a67b-03c97c94899f",
   "metadata": {},
   "outputs": [],
   "source": []
  }
 ],
 "metadata": {
  "kernelspec": {
   "display_name": "Python 3 (ipykernel)",
   "language": "python",
   "name": "python3"
  },
  "language_info": {
   "codemirror_mode": {
    "name": "ipython",
    "version": 3
   },
   "file_extension": ".py",
   "mimetype": "text/x-python",
   "name": "python",
   "nbconvert_exporter": "python",
   "pygments_lexer": "ipython3",
   "version": "3.10.13"
  }
 },
 "nbformat": 4,
 "nbformat_minor": 5
}
